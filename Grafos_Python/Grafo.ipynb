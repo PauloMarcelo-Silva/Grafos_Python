{
 "cells": [
  {
   "cell_type": "code",
   "execution_count": 5,
   "id": "2ab4e23c",
   "metadata": {},
   "outputs": [
    {
     "name": "stdout",
     "output_type": "stream",
     "text": [
      "[[1, 2, 5], [0, 2], [0, 1, 3, 4], [2, 4, 5], [2, 3], [0, 3]]\n",
      "[1, 0, 2, 5, 3, 4]\n",
      "[2, 0, 1, 5, 3, 4]\n"
     ]
    }
   ],
   "source": [
    "from collections import deque\n",
    "\n",
    "class Grafo():\n",
    "    def __init__(self, arestas: list):\n",
    "        self.adj = [[] for _ in range(len(arestas))]\n",
    "        self.adiciona_arestas(arestas)\n",
    "\n",
    "    def adiciona_arestas(self, arestas: list) -> None:\n",
    "        for i in range(len(arestas)):\n",
    "            for j in range(len(arestas[i])):\n",
    "                self.__adiciona_aresta(i, arestas[i][j])\n",
    "\n",
    "    def __adiciona_aresta(self, u: int, v: int) -> None:\n",
    "        if v not in self.adj[u]:\n",
    "            self.adj[u].append(v)\n",
    "\n",
    "        if u not in self.adj[v]:\n",
    "            self.adj[v].append(u)\n",
    "\n",
    "    def bfs(self, start: int) -> list:\n",
    "        fila = deque()\n",
    "        fila.append(start)\n",
    "        visitados = []\n",
    "        visitados.append(start)\n",
    "\n",
    "        while fila:\n",
    "            u = fila.popleft()\n",
    "\n",
    "            for v in self.adj[u]:\n",
    "                if v not in visitados:\n",
    "                    fila.append(v)\n",
    "                    visitados.append(v)\n",
    "\n",
    "        return visitados\n",
    "\n",
    "    def dfs(self, start: int) -> list:\n",
    "        visitados = []\n",
    "        visitados.append(start)\n",
    "        pilha = [start]\n",
    "\n",
    "        while pilha:\n",
    "            u = pilha.pop()\n",
    "\n",
    "            if u not in visitados:\n",
    "                visitados.append(u)\n",
    "\n",
    "            for v in self.adj[u][::-1]:\n",
    "                if v not in visitados:\n",
    "                    pilha.append(v)\n",
    "\n",
    "        return visitados\n",
    "\n",
    "\n",
    "arestas = [[1, 2, 5],     # Vizinhos do vértice 0.\n",
    "           [0, 2],        # Vizinhos do vértice 1.\n",
    "           [0, 1, 3, 4],  # Vizinhos do vértice 2.\n",
    "           [2, 4, 5],     # Vizinhos do vértice 3.\n",
    "           [2, 3],        # Vizinhos do vértice 4.\n",
    "           [0, 3]         # Vizinhos do vértice 5.\n",
    "           ]\n",
    "\n",
    "grafo = Grafo(arestas)\n",
    "print(grafo.adj)\n",
    "print(grafo.bfs(1))\n",
    "print(grafo.dfs(2))"
   ]
  },
  {
   "cell_type": "code",
   "execution_count": null,
   "id": "5f31ca9d",
   "metadata": {},
   "outputs": [],
   "source": []
  }
 ],
 "metadata": {
  "kernelspec": {
   "display_name": "Python 3 (ipykernel)",
   "language": "python",
   "name": "python3"
  },
  "language_info": {
   "codemirror_mode": {
    "name": "ipython",
    "version": 3
   },
   "file_extension": ".py",
   "mimetype": "text/x-python",
   "name": "python",
   "nbconvert_exporter": "python",
   "pygments_lexer": "ipython3",
   "version": "3.9.7"
  }
 },
 "nbformat": 4,
 "nbformat_minor": 5
}
